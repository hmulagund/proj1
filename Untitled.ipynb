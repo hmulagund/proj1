{
 "cells": [
  {
   "cell_type": "code",
   "execution_count": null,
   "metadata": {},
   "outputs": [],
   "source": []
  },
  {
   "cell_type": "code",
   "execution_count": 6,
   "metadata": {},
   "outputs": [
    {
     "name": "stdout",
     "output_type": "stream",
     "text": [
      "Use calc\n",
      "Please choose your option\n",
      " + for  Add\n",
      " - for Sub\n",
      " * for Mul\n",
      " \\ for Div\n",
      " % \\for Modulas\n",
      " s for Square\n",
      " c for cube\n",
      " z for sq root\n",
      "\n",
      "Please enter operatorz\n",
      "<class 'str'>\n",
      "enter num125\n",
      "25 0 z\n",
      "5.0\n"
     ]
    }
   ],
   "source": [
    "def calc(num1,num2,operator):\n",
    "    if (operator == \"+\"):\n",
    "        return (num1+num2)\n",
    "        \n",
    "    elif(operator == \"-\"):\n",
    "        return (num1-num2)\n",
    "    \n",
    "    elif(operator == \"*\"):\n",
    "        return (num1*num2)\n",
    "    \n",
    "    elif(operator == \"/\"):\n",
    "        if (num2 == 0):\n",
    "            print(\"Mathematical error\")\n",
    "        else:\n",
    "            return (num1/num2)\n",
    "        \n",
    "    elif(operator == \"%\"):\n",
    "        return (num1%num2)\n",
    "        \n",
    "    elif(operator == \"s\"):\n",
    "        return (num1**2)\n",
    "    \n",
    "    elif(operator == \"c\"):\n",
    "        return (num1 ** 3)\n",
    "        \n",
    "    else :\n",
    "        return (num1 ** 0.5)\n",
    "\n",
    "print(\"Use calc\")\n",
    "print(\"Please choose your option\")\n",
    "print(\" + for  Add\\n - for Sub\\n * for Mul\\n \\ for Div\\n % \\\\for Modulas\\n s for Square\\n c for cube\\n z for sq root\" )\n",
    "operator_list= ['+','-','*','/','%','s','c','z']\n",
    "operator = input(\"\\nPlease enter operator\")\n",
    "print(type(operator))\n",
    "while (operator not in operator_list):\n",
    "    operator =input(\"please enter correct operator\")\n",
    "\n",
    "num1 = int(input(\"enter num1\"))\n",
    "if (operator in operator_list[5:]):\n",
    "    num2 = 0\n",
    "else: \n",
    "    num2 = int(input(\"enter num2\"))\n",
    "    \n",
    "\n",
    "\n",
    "result = calc(num1,num2,operator)\n",
    "\n",
    "print (result)\n",
    "    "
   ]
  },
  {
   "cell_type": "code",
   "execution_count": null,
   "metadata": {},
   "outputs": [],
   "source": []
  },
  {
   "cell_type": "code",
   "execution_count": null,
   "metadata": {},
   "outputs": [],
   "source": []
  }
 ],
 "metadata": {
  "kernelspec": {
   "display_name": "Python 3",
   "language": "python",
   "name": "python3"
  }
 },
 "nbformat": 4,
 "nbformat_minor": 2
}
